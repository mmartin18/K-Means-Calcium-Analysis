{
 "cells": [
  {
   "cell_type": "markdown",
   "metadata": {},
   "source": [
    "Notebook to perform K-Means clustering of calcium activity data in a time series\n",
    "Created by: Michael Martin\n",
    "Date: April 04, 2020\n",
    "\n",
    "Outline of the plan is:\n",
    "\n",
    "import modules\n",
    "\n",
    "get path to data & get kept ROIs\n",
    "\n",
    "store data in a way that is accesible\n",
    "\n",
    "PCA for dimensionality reduction while retaining ROI identities\n",
    "\n",
    "K means clustering on lower dimensionality data\n",
    "\n",
    "save/plot clustered data"
   ]
  },
  {
   "cell_type": "code",
   "execution_count": 10,
   "metadata": {},
   "outputs": [],
   "source": [
    "import os \n",
    "import csv\n",
    "# import math\n",
    "import numpy as np\n",
    "import matplotlib.pyplot as plt\n",
    "import pandas as pd\n",
    "from sklearn.cluster import KMeans\n",
    "import sklearn.preprocessing\n",
    "import sklearn.decomposition #for PCA\n",
    "\n",
    "pca = sklearn.decomposition.PCA(n_components=2)"
   ]
  },
  {
   "cell_type": "markdown",
   "metadata": {},
   "source": [
    "File path to data"
   ]
  },
  {
   "cell_type": "code",
   "execution_count": 11,
   "metadata": {},
   "outputs": [],
   "source": [
    "main_path  = 'C:/Users/mmart/Documents/Analysis/Mar.5.20_HUC6f_8dpf_WFtoBF_1D-s5/'\n",
    "roi_path   = main_path+\"roi_data.npy\"\n",
    "rois = np.load(roi_path, allow_pickle=True)\n",
    "# tail_path  = main_path+\"Mar.10.20_2C_tail_angles1.csv\"\n",
    "# video_path = main_path+\"Mar.10.20_HUC6f_fish2_6dpf_loom_lv30_2C-1_mc_ALL.tif\""
   ]
  },
  {
   "cell_type": "code",
   "execution_count": 12,
   "metadata": {},
   "outputs": [],
   "source": [
    "temporal_footprints   = rois[()]['roi_temporal_footprints']\n",
    "temp_residuals        = rois[()]['roi_temporal_residuals']\n",
    "spatial_footprints    = rois[()]['roi_spatial_footprints']\n",
    "bg_temp_footprints    = rois[()]['bg_temporal_footprints']\n",
    "bg_spatial_footprints = rois[()]['bg_spatial_footprints']\n",
    "removed_rois          = rois[()]['all_removed_rois']\n",
    "\n",
    "kept_rois = [ i for i in range(temporal_footprints[0].shape[0]) if i not in removed_rois[0]] #only a single plane to start\n",
    "# myst_vals = rois[()]\n",
    "# print(myst_vals)\n",
    "# print(temporal_footprints)\n",
    "\n",
    "kept_temporal_footprints = temporal_footprints[0][kept_rois]\n",
    "# roi_spatial_footprints = spatial_footprints[0].transpose()\n",
    "# roi_spatial_footprints = spatial_footprints[0].toarray().reshape((video.shape[2], video.shape[3], spatial_footprints[z].shape[-1])).transpose((0, 1, 2))\n",
    "\n"
   ]
  },
  {
   "cell_type": "code",
   "execution_count": 13,
   "metadata": {},
   "outputs": [
    {
     "name": "stdout",
     "output_type": "stream",
     "text": [
      "(80, 110)\n",
      "(19, 110)\n",
      "[0, 1, 2, 3, 4, 6, 7, 9, 12, 13, 15, 24, 26, 29, 30, 33, 40, 49, 63]\n"
     ]
    }
   ],
   "source": [
    "# temporal_footprints[0].shape\n",
    "print(temporal_footprints[0].shape)\n",
    "kept_temporal_footprints = temporal_footprints[0][kept_rois]\n",
    "print(kept_temporal_footprints.shape)\n",
    "print(kept_rois)\n",
    "# print(roi_spatial_footprints[0].shape)\n",
    "# kept_roi_spatial_footprints = roi_spatial_footprints[0][kept_rois]\n",
    "# transposed_spatial = kept_roi_spatial_footprints.transpose()\n",
    "# # print(kept_roi_spatial_footprints.shape)\n",
    "# print(transposed_spatial.shape)"
   ]
  },
  {
   "cell_type": "code",
   "execution_count": 14,
   "metadata": {},
   "outputs": [],
   "source": [
    "#Scale data before performing PCA\n",
    "scaled_data = sklearn.preprocessing.scale(kept_temporal_footprints)\n",
    "numeric_data = pd.DataFrame(scaled_data)\n",
    "\n",
    "#Perform PCA\n",
    "pca = sklearn.decomposition.PCA(n_components=3)\n",
    "principal_components = pca.fit_transform(numeric_data)\n"
   ]
  },
  {
   "cell_type": "code",
   "execution_count": 15,
   "metadata": {},
   "outputs": [
    {
     "data": {
      "text/plain": [
       "(19, 3)"
      ]
     },
     "execution_count": 15,
     "metadata": {},
     "output_type": "execute_result"
    }
   ],
   "source": [
    "type(principal_components)\n",
    "principal_components.shape"
   ]
  },
  {
   "cell_type": "code",
   "execution_count": 7,
   "metadata": {},
   "outputs": [
    {
     "data": {
      "image/png": "[encoded data removed]",
      "text/plain": [
       "<Figure size 432x288 with 1 Axes>"
      ]
     },
     "metadata": {
      "needs_background": "light"
     },
     "output_type": "display_data"
    }
   ],
   "source": [
    "from matplotlib.colors import ListedColormap\n",
    "x = principal_components[:,0]\n",
    "y = principal_components[:,1]\n",
    "\n",
    "plt.title(\"Principal Components\")\n",
    "plt.scatter(x, y, color = 'blue', edgecolors = 'none')\n",
    "plt.xlabel(\"Principal Component 1\")\n",
    "plt.ylabel(\"Principal Component 2\")\n",
    "plt.show()"
   ]
  },
  {
   "cell_type": "code",
   "execution_count": 16,
   "metadata": {},
   "outputs": [],
   "source": [
    "n_clusters = 5\n",
    "kmeans = sklearn.cluster.KMeans(n_clusters=n_clusters) # n=3 is arbitrary, will perform other calculations to figure it out\n",
    "clustered_data = kmeans.fit(principal_components)"
   ]
  },
  {
   "cell_type": "code",
   "execution_count": 17,
   "metadata": {},
   "outputs": [
    {
     "name": "stdout",
     "output_type": "stream",
     "text": [
      "[4 4 3 4 4 2 1 1 1 1 0 0 1 0 0 0 0 0 0]\n",
      "<class 'numpy.int32'>\n",
      "<class 'int'>\n",
      "[0, 1, 2, 3, 4, 6, 7, 9, 12, 13, 15, 24, 26, 29, 30, 33, 40, 49, 63]\n"
     ]
    }
   ],
   "source": [
    "# print(clustered_data)\n",
    "labelled_clusters = kmeans.labels_\n",
    "print(labelled_clusters)\n",
    "print(type(labelled_clusters[0]))\n",
    "print(type(kept_rois[0]))\n",
    "print(kept_rois)"
   ]
  },
  {
   "cell_type": "code",
   "execution_count": 31,
   "metadata": {},
   "outputs": [],
   "source": [
    "# kMeans_groups = []\n",
    "# for cluster_num in range(len(n_clusters)):\n",
    "#     demoList{cluster_num}\n",
    "    \n",
    "    \n",
    "# for i in range(len(kept_rois)):\n",
    "#     if\n",
    "    \n",
    "grouped_KMeans_dict = {}\n",
    "for label, roi_num in zip(labelled_clusters, kept_rois):\n",
    "    if label not in grouped_KMeans_dict:\n",
    "        grouped_KMeans_dict[label] = str(roi_num)#list(roi_num)\n",
    "    else:\n",
    "        grouped_KMeans_dict[label] = grouped_KMeans_dict[label] + ',' + str(roi_num)#list(roi_num)\n",
    "\n",
    "# grouped_KMeans_dict = {}\n",
    "# for label, roi_num in zip(labelled_clusters, kept_rois):\n",
    "#     if label not in grouped_KMeans_dict:\n",
    "#         grouped_KMeans_dict[label] = list(str(roi_num))#list(roi_num)\n",
    "#         print(roi_num)\n",
    "#     else:\n",
    "# #         print(label)\n",
    "#         pass\n",
    "# #         grouped_KMeans_dict[label] = grouped_KMeans_dict[label] + ',' + str(roi_num)#list(roi_num)"
   ]
  },
  {
   "cell_type": "code",
   "execution_count": 32,
   "metadata": {},
   "outputs": [
    {
     "data": {
      "text/plain": [
       "{4: '0,1,3,4', 3: '2', 2: '6', 1: '7,9,12,13,26', 0: '15,24,29,30,33,40,49,63'}"
      ]
     },
     "execution_count": 32,
     "metadata": {},
     "output_type": "execute_result"
    }
   ],
   "source": [
    "grouped_KMeans_dict"
   ]
  },
  {
   "cell_type": "code",
   "execution_count": 26,
   "metadata": {},
   "outputs": [
    {
     "ename": "SyntaxError",
     "evalue": "invalid syntax (<ipython-input-26-418e3ae4e772>, line 2)",
     "output_type": "error",
     "traceback": [
      "\u001b[1;36m  File \u001b[1;32m\"<ipython-input-26-418e3ae4e772>\"\u001b[1;36m, line \u001b[1;32m2\u001b[0m\n\u001b[1;33m    demoList{}.format(cluster_num) = []\u001b[0m\n\u001b[1;37m            ^\u001b[0m\n\u001b[1;31mSyntaxError\u001b[0m\u001b[1;31m:\u001b[0m invalid syntax\n"
     ]
    }
   ],
   "source": [
    "for cluster_num in range(5):\n",
    "    demoList{}.format(cluster_num) = []\n",
    "    for i in range(3):\n",
    "        demoList{}.format(cluster_num) += i"
   ]
  },
  {
   "cell_type": "code",
   "execution_count": null,
   "metadata": {},
   "outputs": [],
   "source": [
    "#THIS CELL IS TAKEN FROM THE EDX HOMEWORK, TWO CELLS PUT INTO 1\n",
    "#THIS WILL BE REMOVED BEFORE GOING PUBLIC, I JUST WANTED TO\n",
    "#KEEP IT SO I DIDN'T HAVE TO LOOK UP pca AND knn EVERY TIME\n",
    "#I WANTED TO REFERENCE THEIR USE. \n",
    "\n",
    "import sklearn.preprocessing\n",
    "scaled_data = sklearn.preprocessing.scale(numeric_data)\n",
    "numeric_data = pd.DataFrame(scaled_data, columns = numeric_data.columns)\n",
    "\n",
    "import sklearn.decomposition\n",
    "pca = sklearn.decomposition.PCA(n_components=2)\n",
    "principal_components = pca.fit_transform(numeric_data)\n",
    "\n",
    "principal_components.shape\n",
    "\n",
    "#///////////////////\n",
    "\n",
    "from sklearn.neighbors import KNeighborsClassifier\n",
    "knn = KNeighborsClassifier(n_neighbors = 5)\n",
    "knn.fit(numeric_data, data['high_quality'])\n",
    "# Enter your code here!\n",
    "\n",
    "library_predictions = knn.predict(numeric_data)\n",
    "\n",
    "print(accuracy(library_predictions, data['high_quality']))"
   ]
  },
  {
   "cell_type": "code",
   "execution_count": null,
   "metadata": {},
   "outputs": [],
   "source": [
    "https://scikit-learn.org/stable/auto_examples/cluster/plot_mini_batch_kmeans.html#sphx-glr-auto-examples-cluster-plot-mini-batch-kmeans-py \n",
    "https://scikit-learn.org/stable/modules/clustering.html#k-means\n",
    "https://scikit-learn.org/stable/modules/generated/sklearn.cluster.KMeans.html\n",
    "https://scikit-learn.org/stable/modules/decomposition.html#pca\n",
    "https://scikit-learn.org/stable/modules/generated/sklearn.decomposition.PCA.html"
   ]
  },
  {
   "cell_type": "code",
   "execution_count": 11,
   "metadata": {},
   "outputs": [
    {
     "name": "stdout",
     "output_type": "stream",
     "text": [
      "{'key1': ['hello'], 'key2': ['world']}\n"
     ]
    }
   ],
   "source": [
    "d = {'key1':[], 'key2': []}\n",
    "d['key1'].append('hello')\n",
    "d['key2'].append('world')\n",
    "print(d)"
   ]
  },
  {
   "cell_type": "code",
   "execution_count": 12,
   "metadata": {},
   "outputs": [
    {
     "name": "stdout",
     "output_type": "stream",
     "text": [
      "{'key1': ['hello', 'and', 'goodbye'], 'key2': ['world']}\n"
     ]
    }
   ],
   "source": [
    "d['key1'].append('and')\n",
    "d['key1'].append('goodbye')\n",
    "print(d)"
   ]
  },
  {
   "cell_type": "code",
   "execution_count": 13,
   "metadata": {},
   "outputs": [
    {
     "name": "stdout",
     "output_type": "stream",
     "text": [
      "{'key1': ['hello', 'and', 'goodbye'], 'key2': 100}\n"
     ]
    }
   ],
   "source": [
    "d['key2'] = 100\n",
    "print(d)"
   ]
  },
  {
   "cell_type": "code",
   "execution_count": 11,
   "metadata": {},
   "outputs": [],
   "source": [
    "list1 = ['a','b','c','d','e','f','g','h','i','j']\n",
    "class_list = [0,1,2,1,0,3,0,1,1,3]\n",
    "j = 0\n",
    "test_dict = {}\n",
    "# for i in class_list:\n",
    "#     if i not in test_dict:\n",
    "#         print(type(test_dict))\n",
    "#         test_dict[i] = list1[j]\n",
    "#         j += 1\n",
    "#     else:\n",
    "#         test_dict[i] = list1[j]\n",
    "#         j +=1\n",
    "        \n",
    "        \n",
    "total = {}\n",
    "for k, v in zip(list1, class_list):\n",
    "    if v not in total:\n",
    "        total[v] = list(k)\n",
    "    else:\n",
    "        total[v] = total[v] + list(k)\n",
    "\n",
    "        \n"
   ]
  },
  {
   "cell_type": "code",
   "execution_count": 12,
   "metadata": {},
   "outputs": [
    {
     "data": {
      "text/plain": [
       "{0: ['a', 'e', 'g'], 1: ['b', 'd', 'h', 'i'], 2: ['c'], 3: ['f', 'j']}"
      ]
     },
     "execution_count": 12,
     "metadata": {},
     "output_type": "execute_result"
    }
   ],
   "source": [
    "total"
   ]
  },
  {
   "cell_type": "code",
   "execution_count": 18,
   "metadata": {},
   "outputs": [
    {
     "name": "stdout",
     "output_type": "stream",
     "text": [
      "['b', 'd', 'h', 'i']\n"
     ]
    }
   ],
   "source": [
    "print(total[1])"
   ]
  },
  {
   "cell_type": "code",
   "execution_count": null,
   "metadata": {},
   "outputs": [],
   "source": [
    "roi_num = [1,2,34,5,67,890]"
   ]
  }
 ],
 "metadata": {
  "kernelspec": {
   "display_name": "Python 3",
   "language": "python",
   "name": "python3"
  },
  "language_info": {
   "codemirror_mode": {
    "name": "ipython",
    "version": 3
   },
   "file_extension": ".py",
   "mimetype": "text/x-python",
   "name": "python",
   "nbconvert_exporter": "python",
   "pygments_lexer": "ipython3",
   "version": "3.7.6"
  }
 },
 "nbformat": 4,
 "nbformat_minor": 4
}
