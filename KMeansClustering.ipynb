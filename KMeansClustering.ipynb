{
 "cells": [
  {
   "cell_type": "markdown",
   "metadata": {},
   "source": [
    "Notebook to perform K-Means clustering of calcium activity data in a time series\n",
    "Created by: Michael Martin\n",
    "Date: April 04, 2020\n",
    "\n",
    "Outline of the plan is:\n",
    "import modules\n",
    "get path to data & get kept ROIs\n",
    "store data in a way that is accesible\n",
    "PCA for dimensionality reduction while retaining ROI identities\n",
    "K means clustering on lower dimensionality data\n",
    "save/plot clustered data"
   ]
  },
  {
   "cell_type": "code",
   "execution_count": null,
   "metadata": {},
   "outputs": [],
   "source": [
    "import os \n",
    "import csv\n",
    "import math\n",
    "import numpy as np\n",
    "import matplotlib.pyplot as plt\n",
    "import pandas as pd\n",
    "from sklearn.cluster import KMeans"
   ]
  },
  {
   "cell_type": "markdown",
   "metadata": {},
   "source": [
    "File path to data"
   ]
  },
  {
   "cell_type": "code",
   "execution_count": null,
   "metadata": {},
   "outputs": [],
   "source": [
    "main_path  = 'C:/Users/mmart/Documents/Analysis/Mar.5.20_HUC6f_8dpf_WFtoBF_1D-s5/'\n",
    "roi_path   = main_path+\"roi_data.npy\"\n",
    "rois = np.load(roi_path, allow_pickle=True)\n",
    "# tail_path  = main_path+\"Mar.10.20_2C_tail_angles1.csv\"\n",
    "# video_path = main_path+\"Mar.10.20_HUC6f_fish2_6dpf_loom_lv30_2C-1_mc_ALL.tif\""
   ]
  },
  {
   "cell_type": "code",
   "execution_count": null,
   "metadata": {},
   "outputs": [],
   "source": [
    "temporal_footprints   = rois[()]['roi_temporal_footprints']\n",
    "temp_residuals        = rois[()]['roi_temporal_residuals']\n",
    "spatial_footprints    = rois[()]['roi_spatial_footprints']\n",
    "bg_temp_footprints    = rois[()]['bg_temporal_footprints']\n",
    "bg_spatial_footprints = rois[()]['bg_spatial_footprints']\n",
    "removed_rois          = rois[()]['all_removed_rois']\n",
    "myst_vals = rois[()]\n",
    "# print(myst_vals)\n",
    "# print(temporal_footprints)"
   ]
  },
  {
   "cell_type": "code",
   "execution_count": null,
   "metadata": {},
   "outputs": [],
   "source": []
  }
 ],
 "metadata": {
  "kernelspec": {
   "display_name": "Python 3",
   "language": "python",
   "name": "python3"
  },
  "language_info": {
   "codemirror_mode": {
    "name": "ipython",
    "version": 3
   },
   "file_extension": ".py",
   "mimetype": "text/x-python",
   "name": "python",
   "nbconvert_exporter": "python",
   "pygments_lexer": "ipython3",
   "version": "3.7.6"
  }
 },
 "nbformat": 4,
 "nbformat_minor": 4
}
