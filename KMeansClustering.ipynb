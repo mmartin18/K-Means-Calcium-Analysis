{
 "cells": [
  {
   "cell_type": "markdown",
   "metadata": {},
   "source": [
    "Notebook to perform K-Means clustering of calcium activity data in a time series\n",
    "Created by: Michael Martin\n",
    "Date: April 04, 2020\n",
    "\n",
    "Outline of the plan is:\n",
    "\n",
    "import modules\n",
    "\n",
    "get path to data & get kept ROIs\n",
    "\n",
    "store data in a way that is accesible\n",
    "\n",
    "PCA for dimensionality reduction while retaining ROI identities\n",
    "\n",
    "K means clustering on lower dimensionality data\n",
    "\n",
    "save/plot clustered data"
   ]
  },
  {
   "cell_type": "code",
   "execution_count": 62,
   "metadata": {},
   "outputs": [],
   "source": [
    "import os \n",
    "import csv\n",
    "import math\n",
    "import numpy as np\n",
    "import matplotlib.pyplot as plt\n",
    "import pandas as pd\n",
    "from sklearn.cluster import KMeans\n",
    "import sklearn.preprocessing\n",
    "import sklearn.decomposition #for PCA\n",
    "\n",
    "pca = sklearn.decomposition.PCA(n_components=2)"
   ]
  },
  {
   "cell_type": "markdown",
   "metadata": {},
   "source": [
    "File path to data"
   ]
  },
  {
   "cell_type": "code",
   "execution_count": 63,
   "metadata": {},
   "outputs": [],
   "source": [
    "main_path  = 'C:/Users/mmart/Documents/Analysis/Mar.5.20_HUC6f_8dpf_WFtoBF_1D-s5/'\n",
    "roi_path   = main_path+\"roi_data.npy\"\n",
    "rois = np.load(roi_path, allow_pickle=True)\n",
    "# tail_path  = main_path+\"Mar.10.20_2C_tail_angles1.csv\"\n",
    "# video_path = main_path+\"Mar.10.20_HUC6f_fish2_6dpf_loom_lv30_2C-1_mc_ALL.tif\""
   ]
  },
  {
   "cell_type": "code",
   "execution_count": 64,
   "metadata": {},
   "outputs": [],
   "source": [
    "temporal_footprints   = rois[()]['roi_temporal_footprints']\n",
    "temp_residuals        = rois[()]['roi_temporal_residuals']\n",
    "spatial_footprints    = rois[()]['roi_spatial_footprints']\n",
    "bg_temp_footprints    = rois[()]['bg_temporal_footprints']\n",
    "bg_spatial_footprints = rois[()]['bg_spatial_footprints']\n",
    "removed_rois          = rois[()]['all_removed_rois']\n",
    "\n",
    "kept_rois = [ i for i in range(temporal_footprints[0].shape[0]) if i not in removed_rois[0]] #only a single plane to start\n",
    "# myst_vals = rois[()]\n",
    "# print(myst_vals)\n",
    "# print(temporal_footprints)\n",
    "\n",
    "kept_temporal_footprints = temporal_footprints[0][kept_rois]\n",
    "# roi_spatial_footprints = spatial_footprints[0].transpose()\n",
    "# roi_spatial_footprints = spatial_footprints[0].toarray().reshape((video.shape[2], video.shape[3], spatial_footprints[z].shape[-1])).transpose((0, 1, 2))\n",
    "\n"
   ]
  },
  {
   "cell_type": "code",
   "execution_count": 65,
   "metadata": {},
   "outputs": [
    {
     "name": "stdout",
     "output_type": "stream",
     "text": [
      "(80, 110)\n",
      "(19, 110)\n"
     ]
    }
   ],
   "source": [
    "# temporal_footprints[0].shape\n",
    "print(temporal_footprints[0].shape)\n",
    "kept_temporal_footprints = temporal_footprints[0][kept_rois]\n",
    "print(kept_temporal_footprints.shape)\n",
    "# print(roi_spatial_footprints[0].shape)\n",
    "# kept_roi_spatial_footprints = roi_spatial_footprints[0][kept_rois]\n",
    "# transposed_spatial = kept_roi_spatial_footprints.transpose()\n",
    "# # print(kept_roi_spatial_footprints.shape)\n",
    "# print(transposed_spatial.shape)"
   ]
  },
  {
   "cell_type": "code",
   "execution_count": 78,
   "metadata": {},
   "outputs": [],
   "source": [
    "#Scale data before performing PCA\n",
    "scaled_data = sklearn.preprocessing.scale(kept_temporal_footprints)\n",
    "numeric_data = pd.DataFrame(scaled_data)\n",
    "\n",
    "#Perform PCA\n",
    "pca = sklearn.decomposition.PCA(n_components=2)\n",
    "principal_components = pca.fit_transform(numeric_data)\n"
   ]
  },
  {
   "cell_type": "code",
   "execution_count": 79,
   "metadata": {},
   "outputs": [
    {
     "data": {
      "text/plain": [
       "(19, 2)"
      ]
     },
     "execution_count": 79,
     "metadata": {},
     "output_type": "execute_result"
    }
   ],
   "source": [
    "type(principal_components)\n",
    "principal_components.shape"
   ]
  },
  {
   "cell_type": "code",
   "execution_count": 80,
   "metadata": {},
   "outputs": [
    {
     "data": {
      "image/png": "[encoded data removed]",
      "text/plain": [
       "<Figure size 432x288 with 1 Axes>"
      ]
     },
     "metadata": {
      "needs_background": "light"
     },
     "output_type": "display_data"
    }
   ],
   "source": [
    "import matplotlib.pyplot as plt\n",
    "from matplotlib.colors import ListedColormap\n",
    "x = principal_components[:,0]\n",
    "y = principal_components[:,1]\n",
    "\n",
    "plt.title(\"Principal Components\")\n",
    "plt.scatter(x, y, color = 'blue', edgecolors = 'none')\n",
    "plt.xlabel(\"Principal Component 1\")\n",
    "plt.ylabel(\"Principal Component 2\")\n",
    "plt.show()"
   ]
  },
  {
   "cell_type": "code",
   "execution_count": 91,
   "metadata": {},
   "outputs": [],
   "source": [
    "kmeans = sklearn.cluster.KMeans(n_clusters=5) # n=3 is arbitrary, will perform other calculations to figure it out\n",
    "clustered_data = kmeans.fit(principal_components)"
   ]
  },
  {
   "cell_type": "code",
   "execution_count": 92,
   "metadata": {},
   "outputs": [
    {
     "data": {
      "text/plain": [
       "array([1, 1, 4, 1, 1, 2, 3, 3, 3, 3, 0, 0, 3, 0, 0, 0, 0, 0, 0])"
      ]
     },
     "execution_count": 92,
     "metadata": {},
     "output_type": "execute_result"
    }
   ],
   "source": [
    "# print(clustered_data)\n",
    "kmeans.labels_"
   ]
  },
  {
   "cell_type": "code",
   "execution_count": null,
   "metadata": {},
   "outputs": [],
   "source": [
    "#THIS CELL IS TAKEN FROM THE EDX HOMEWORK, TWO CELLS PUT INTO 1\n",
    "#THIS WILL BE REMOVED BEFORE GOING PUBLIC, I JUST WANTED TO\n",
    "#KEEP IT SO I DIDN'T HAVE TO LOOK UP pca AND knn EVERY TIME\n",
    "#I WANTED TO REFERENCE THEIR USE. \n",
    "\n",
    "import sklearn.preprocessing\n",
    "scaled_data = sklearn.preprocessing.scale(numeric_data)\n",
    "numeric_data = pd.DataFrame(scaled_data, columns = numeric_data.columns)\n",
    "\n",
    "import sklearn.decomposition\n",
    "pca = sklearn.decomposition.PCA(n_components=2)\n",
    "principal_components = pca.fit_transform(numeric_data)\n",
    "\n",
    "principal_components.shape\n",
    "\n",
    "#///////////////////\n",
    "\n",
    "from sklearn.neighbors import KNeighborsClassifier\n",
    "knn = KNeighborsClassifier(n_neighbors = 5)\n",
    "knn.fit(numeric_data, data['high_quality'])\n",
    "# Enter your code here!\n",
    "\n",
    "library_predictions = knn.predict(numeric_data)\n",
    "\n",
    "print(accuracy(library_predictions, data['high_quality']))"
   ]
  }
 ],
 "metadata": {
  "kernelspec": {
   "display_name": "Python 3",
   "language": "python",
   "name": "python3"
  },
  "language_info": {
   "codemirror_mode": {
    "name": "ipython",
    "version": 3
   },
   "file_extension": ".py",
   "mimetype": "text/x-python",
   "name": "python",
   "nbconvert_exporter": "python",
   "pygments_lexer": "ipython3",
   "version": "3.7.6"
  }
 },
 "nbformat": 4,
 "nbformat_minor": 4
}
