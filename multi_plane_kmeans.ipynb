{
 "cells": [
  {
   "cell_type": "code",
   "execution_count": 3,
   "metadata": {},
   "outputs": [],
   "source": [
    "import os \n",
    "import csv\n",
    "import numpy as np\n",
    "import matplotlib.pyplot as plt\n",
    "from tifffile import imread\n",
    "import pandas as pd\n",
    "from sklearn.cluster import KMeans\n",
    "import sklearn.preprocessing\n",
    "import sklearn.decomposition #for PCA\n",
    "\n",
    "pca = sklearn.decomposition.PCA(n_components=2)"
   ]
  },
  {
   "cell_type": "code",
   "execution_count": 6,
   "metadata": {},
   "outputs": [],
   "source": [
    "main_path  = 'C:/Users/mmart/Documents/Analysis/FilesToAnalyze/Mar.5.20_HUC6f_8dpf_loom_lv30_1B-1_mc/'\n",
    "video_path = main_path+\"Mar.5.20_HUC6f_8dpf_loom_lv30_1B-1_mc.tif\"\n",
    "roi_path   = main_path+\"roi_data.npy\"\n",
    "rois = np.load(roi_path, allow_pickle=True)\n",
    "video = imread(video_path)\n",
    "\n",
    "perform_PCA = False"
   ]
  },
  {
   "cell_type": "code",
   "execution_count": 7,
   "metadata": {},
   "outputs": [],
   "source": [
    "temporal_footprints   = rois[()]['roi_temporal_footprints']\n",
    "temp_residuals        = rois[()]['roi_temporal_residuals']\n",
    "spatial_footprints    = rois[()]['roi_spatial_footprints']\n",
    "bg_temp_footprints    = rois[()]['bg_temporal_footprints']\n",
    "bg_spatial_footprints = rois[()]['bg_spatial_footprints']\n",
    "removed_rois          = rois[()]['all_removed_rois']\n",
    "\n",
    "# roi_spatial_footprints = spatial_footprints[0].transpose()\n",
    "# roi_spatial_footprints = spatial_footprints[0].toarray().reshape((video.shape[2], video.shape[3], spatial_footprints[z].shape[-1])).transpose((0, 1, 2))\n",
    "\n"
   ]
  },
  {
   "cell_type": "code",
   "execution_count": 80,
   "metadata": {},
   "outputs": [],
   "source": [
    "total_temporal_traces = []\n",
    "total_kept_rois = []\n",
    "for z in range(video.shape[1]):\n",
    "    # Make a list of ROIs to plot (just the kept ROIs)\n",
    "    kept_rois = [ i for i in range(temporal_footprints[z].shape[0]) if i not in removed_rois[z] ]\n",
    "    kept_temporal_traces = temporal_footprints[z][kept_rois]\n",
    "    for trace in kept_temporal_traces:\n",
    "        total_temporal_traces.append(trace)\n",
    "    for roi in kept_rois:\n",
    "        total_kept_rois += str(str(z) + 'z'+ str(roi))\n"
   ]
  },
  {
   "cell_type": "code",
   "execution_count": 81,
   "metadata": {
    "scrolled": true
   },
   "outputs": [
    {
     "name": "stdout",
     "output_type": "stream",
     "text": [
      "The ROIs are clustered as follows: [2 2 1 1 1 1 1 1 2 1 1 0 0 2 2 2 1 1 1 1 1 1 1 2 1 1 0 2 0 0 0 2 2 1 1 2 1\n",
      " 1 1 1 1 1 1 2 0 0 0 2 1 1 1 1 2 1 2 1 1 1 1 1 1 1 0 0 0 2 1 2 1 1 2 2 1 1\n",
      " 1 2 1 2 2 2 1 0 1 2 1 2 2 1 1 2 1 1 1 1 1 1 1 2 2 1 1 1 2 2 1 1 2 1 2 2 1\n",
      " 1 1 1 1 1 1 1 1 1 1 1 1 1 1 1 1 1 1]\n",
      "The kept ROIs are: ['0', 'z', '0', '0', 'z', '1', '0', 'z', '2', '0', 'z', '3', '0', 'z', '4', '0', 'z', '2', '3', '1', 'z', '0', '1', 'z', '2', '1', 'z', '4', '1', 'z', '5', '1', 'z', '1', '2', '2', 'z', '0', '2', 'z', '1', '2', 'z', '2', '2', 'z', '3', '2', 'z', '4', '2', 'z', '6', '2', 'z', '1', '3', '2', 'z', '1', '4', '2', 'z', '1', '5', '2', 'z', '1', '7', '2', 'z', '2', '3', '2', 'z', '2', '4', '2', 'z', '3', '5', '2', 'z', '4', '3', '2', 'z', '4', '5', '3', 'z', '0', '3', 'z', '1', '3', 'z', '2', '3', 'z', '3', '3', 'z', '5', '3', 'z', '6', '3', 'z', '7', '3', 'z', '8', '3', 'z', '1', '1', '3', 'z', '1', '2', '3', 'z', '1', '3', '3', 'z', '2', '5', '3', 'z', '2', '6', '3', 'z', '2', '7', '3', 'z', '2', '9', '3', 'z', '4', '5', '3', 'z', '5', '3', '3', 'z', '7', '8', '4', 'z', '0', '4', 'z', '1', '4', 'z', '3', '4', 'z', '4', '4', 'z', '5', '4', 'z', '6', '4', 'z', '1', '2', '4', 'z', '1', '3', '4', 'z', '1', '4', '4', 'z', '1', '7', '4', 'z', '1', '8', '4', 'z', '2', '4', '4', 'z', '2', '6', '4', 'z', '3', '0', '4', 'z', '3', '3', '4', 'z', '4', '7', '4', 'z', '5', '0', '4', 'z', '6', '6', '5', 'z', '0', '5', 'z', '2', '5', 'z', '3', '5', 'z', '4', '5', 'z', '5', '5', 'z', '6', '5', 'z', '7', '5', 'z', '1', '0', '5', 'z', '1', '1', '5', 'z', '1', '2', '5', 'z', '1', '6', '5', 'z', '1', '7', '5', 'z', '1', '9', '5', 'z', '2', '0', '5', 'z', '2', '5', '5', 'z', '2', '6', '5', 'z', '3', '3', '5', 'z', '4', '9', '5', 'z', '5', '0', '6', 'z', '0', '6', 'z', '1', '6', 'z', '4', '6', 'z', '1', '1', '6', 'z', '1', '4', '6', 'z', '1', '7', '6', 'z', '1', '9', '6', 'z', '2', '1', '6', 'z', '2', '3', '6', 'z', '2', '4', '6', 'z', '3', '8', '6', 'z', '4', '1', '6', 'z', '4', '2', '6', 'z', '4', '6', '6', 'z', '7', '7', '7', 'z', '0', '7', 'z', '1', '7', 'z', '3', '7', 'z', '4', '7', 'z', '5', '7', 'z', '1', '6', '7', 'z', '1', '7', '7', 'z', '1', '9', '7', 'z', '2', '0', '7', 'z', '2', '3', '7', 'z', '2', '5', '7', 'z', '2', '6', '7', 'z', '3', '1', '7', 'z', '3', '3', '7', 'z', '6', '5', '7', 'z', '7', '7', '8', 'z', '0', '8', 'z', '1', '8', 'z', '2', '8', 'z', '3', '8', 'z', '8', '8', 'z', '9', '8', 'z', '1', '4', '8', 'z', '2', '1', '9', 'z', '1', '9', 'z', '2', '9', 'z', '3', '9', 'z', '8', '9', 'z', '9', '9', 'z', '1', '3', '9', 'z', '3', '2', '9', 'z', '5', '1', '9', 'z', '6', '3']\n"
     ]
    },
    {
     "name": "stderr",
     "output_type": "stream",
     "text": [
      "C:\\Users\\mmart\\anaconda3\\envs\\caiman\\lib\\site-packages\\sklearn\\cluster\\_kmeans.py:322: RuntimeWarning: invalid value encountered in true_divide\n",
      "  max_iter=max_iter, verbose=verbose)\n",
      "C:\\Users\\mmart\\anaconda3\\envs\\caiman\\lib\\site-packages\\sklearn\\cluster\\_kmeans.py:322: RuntimeWarning: invalid value encountered in true_divide\n",
      "  max_iter=max_iter, verbose=verbose)\n",
      "C:\\Users\\mmart\\anaconda3\\envs\\caiman\\lib\\site-packages\\sklearn\\cluster\\_kmeans.py:322: RuntimeWarning: invalid value encountered in true_divide\n",
      "  max_iter=max_iter, verbose=verbose)\n",
      "C:\\Users\\mmart\\anaconda3\\envs\\caiman\\lib\\site-packages\\sklearn\\cluster\\_kmeans.py:322: RuntimeWarning: invalid value encountered in true_divide\n",
      "  max_iter=max_iter, verbose=verbose)\n",
      "C:\\Users\\mmart\\anaconda3\\envs\\caiman\\lib\\site-packages\\sklearn\\cluster\\_kmeans.py:322: RuntimeWarning: invalid value encountered in true_divide\n",
      "  max_iter=max_iter, verbose=verbose)\n",
      "C:\\Users\\mmart\\anaconda3\\envs\\caiman\\lib\\site-packages\\sklearn\\cluster\\_kmeans.py:322: RuntimeWarning: invalid value encountered in true_divide\n",
      "  max_iter=max_iter, verbose=verbose)\n",
      "C:\\Users\\mmart\\anaconda3\\envs\\caiman\\lib\\site-packages\\sklearn\\cluster\\_kmeans.py:322: RuntimeWarning: invalid value encountered in true_divide\n",
      "  max_iter=max_iter, verbose=verbose)\n",
      "C:\\Users\\mmart\\anaconda3\\envs\\caiman\\lib\\site-packages\\sklearn\\cluster\\_kmeans.py:322: RuntimeWarning: invalid value encountered in true_divide\n",
      "  max_iter=max_iter, verbose=verbose)\n",
      "C:\\Users\\mmart\\anaconda3\\envs\\caiman\\lib\\site-packages\\sklearn\\cluster\\_kmeans.py:322: RuntimeWarning: invalid value encountered in true_divide\n",
      "  max_iter=max_iter, verbose=verbose)\n",
      "C:\\Users\\mmart\\anaconda3\\envs\\caiman\\lib\\site-packages\\sklearn\\cluster\\_kmeans.py:322: RuntimeWarning: invalid value encountered in true_divide\n",
      "  max_iter=max_iter, verbose=verbose)\n",
      "C:\\Users\\mmart\\anaconda3\\envs\\caiman\\lib\\site-packages\\sklearn\\cluster\\_kmeans.py:322: RuntimeWarning: invalid value encountered in true_divide\n",
      "  max_iter=max_iter, verbose=verbose)\n",
      "C:\\Users\\mmart\\anaconda3\\envs\\caiman\\lib\\site-packages\\sklearn\\cluster\\_kmeans.py:322: RuntimeWarning: invalid value encountered in true_divide\n",
      "  max_iter=max_iter, verbose=verbose)\n",
      "C:\\Users\\mmart\\anaconda3\\envs\\caiman\\lib\\site-packages\\sklearn\\cluster\\_kmeans.py:322: RuntimeWarning: invalid value encountered in true_divide\n",
      "  max_iter=max_iter, verbose=verbose)\n",
      "C:\\Users\\mmart\\anaconda3\\envs\\caiman\\lib\\site-packages\\sklearn\\cluster\\_kmeans.py:322: RuntimeWarning: invalid value encountered in true_divide\n",
      "  max_iter=max_iter, verbose=verbose)\n",
      "C:\\Users\\mmart\\anaconda3\\envs\\caiman\\lib\\site-packages\\sklearn\\cluster\\_kmeans.py:322: RuntimeWarning: invalid value encountered in true_divide\n",
      "  max_iter=max_iter, verbose=verbose)\n",
      "C:\\Users\\mmart\\anaconda3\\envs\\caiman\\lib\\site-packages\\sklearn\\cluster\\_kmeans.py:322: RuntimeWarning: invalid value encountered in true_divide\n",
      "  max_iter=max_iter, verbose=verbose)\n",
      "C:\\Users\\mmart\\anaconda3\\envs\\caiman\\lib\\site-packages\\sklearn\\cluster\\_kmeans.py:322: RuntimeWarning: invalid value encountered in true_divide\n",
      "  max_iter=max_iter, verbose=verbose)\n",
      "C:\\Users\\mmart\\anaconda3\\envs\\caiman\\lib\\site-packages\\sklearn\\cluster\\_kmeans.py:322: RuntimeWarning: invalid value encountered in true_divide\n",
      "  max_iter=max_iter, verbose=verbose)\n",
      "C:\\Users\\mmart\\anaconda3\\envs\\caiman\\lib\\site-packages\\sklearn\\cluster\\_kmeans.py:322: RuntimeWarning: invalid value encountered in true_divide\n",
      "  max_iter=max_iter, verbose=verbose)\n",
      "C:\\Users\\mmart\\anaconda3\\envs\\caiman\\lib\\site-packages\\sklearn\\cluster\\_kmeans.py:322: RuntimeWarning: invalid value encountered in true_divide\n",
      "  max_iter=max_iter, verbose=verbose)\n",
      "C:\\Users\\mmart\\anaconda3\\envs\\caiman\\lib\\site-packages\\sklearn\\cluster\\_kmeans.py:322: RuntimeWarning: invalid value encountered in true_divide\n",
      "  max_iter=max_iter, verbose=verbose)\n",
      "C:\\Users\\mmart\\anaconda3\\envs\\caiman\\lib\\site-packages\\sklearn\\cluster\\_kmeans.py:322: RuntimeWarning: invalid value encountered in true_divide\n",
      "  max_iter=max_iter, verbose=verbose)\n",
      "C:\\Users\\mmart\\anaconda3\\envs\\caiman\\lib\\site-packages\\sklearn\\cluster\\_kmeans.py:322: RuntimeWarning: invalid value encountered in true_divide\n",
      "  max_iter=max_iter, verbose=verbose)\n",
      "C:\\Users\\mmart\\anaconda3\\envs\\caiman\\lib\\site-packages\\sklearn\\cluster\\_kmeans.py:322: RuntimeWarning: invalid value encountered in true_divide\n",
      "  max_iter=max_iter, verbose=verbose)\n",
      "C:\\Users\\mmart\\anaconda3\\envs\\caiman\\lib\\site-packages\\sklearn\\cluster\\_kmeans.py:322: RuntimeWarning: invalid value encountered in true_divide\n",
      "  max_iter=max_iter, verbose=verbose)\n",
      "C:\\Users\\mmart\\anaconda3\\envs\\caiman\\lib\\site-packages\\sklearn\\cluster\\_kmeans.py:322: RuntimeWarning: invalid value encountered in true_divide\n",
      "  max_iter=max_iter, verbose=verbose)\n",
      "C:\\Users\\mmart\\anaconda3\\envs\\caiman\\lib\\site-packages\\sklearn\\cluster\\_kmeans.py:322: RuntimeWarning: invalid value encountered in true_divide\n",
      "  max_iter=max_iter, verbose=verbose)\n",
      "C:\\Users\\mmart\\anaconda3\\envs\\caiman\\lib\\site-packages\\sklearn\\cluster\\_kmeans.py:322: RuntimeWarning: invalid value encountered in true_divide\n",
      "  max_iter=max_iter, verbose=verbose)\n",
      "C:\\Users\\mmart\\anaconda3\\envs\\caiman\\lib\\site-packages\\sklearn\\cluster\\_kmeans.py:322: RuntimeWarning: invalid value encountered in true_divide\n",
      "  max_iter=max_iter, verbose=verbose)\n",
      "C:\\Users\\mmart\\anaconda3\\envs\\caiman\\lib\\site-packages\\sklearn\\cluster\\_kmeans.py:322: RuntimeWarning: invalid value encountered in true_divide\n",
      "  max_iter=max_iter, verbose=verbose)\n",
      "C:\\Users\\mmart\\anaconda3\\envs\\caiman\\lib\\site-packages\\sklearn\\cluster\\_kmeans.py:322: RuntimeWarning: invalid value encountered in true_divide\n",
      "  max_iter=max_iter, verbose=verbose)\n",
      "C:\\Users\\mmart\\anaconda3\\envs\\caiman\\lib\\site-packages\\sklearn\\cluster\\_kmeans.py:322: RuntimeWarning: invalid value encountered in true_divide\n",
      "  max_iter=max_iter, verbose=verbose)\n",
      "C:\\Users\\mmart\\anaconda3\\envs\\caiman\\lib\\site-packages\\sklearn\\cluster\\_kmeans.py:322: RuntimeWarning: invalid value encountered in true_divide\n",
      "  max_iter=max_iter, verbose=verbose)\n",
      "C:\\Users\\mmart\\anaconda3\\envs\\caiman\\lib\\site-packages\\sklearn\\cluster\\_kmeans.py:322: RuntimeWarning: invalid value encountered in true_divide\n",
      "  max_iter=max_iter, verbose=verbose)\n",
      "C:\\Users\\mmart\\anaconda3\\envs\\caiman\\lib\\site-packages\\sklearn\\cluster\\_kmeans.py:322: RuntimeWarning: invalid value encountered in true_divide\n",
      "  max_iter=max_iter, verbose=verbose)\n",
      "C:\\Users\\mmart\\anaconda3\\envs\\caiman\\lib\\site-packages\\sklearn\\cluster\\_kmeans.py:322: RuntimeWarning: invalid value encountered in true_divide\n",
      "  max_iter=max_iter, verbose=verbose)\n"
     ]
    }
   ],
   "source": [
    "n_clusters = 3\n",
    "kmeans = sklearn.cluster.KMeans(n_clusters=n_clusters) # n=3 is arbitrary, will perform other calculations to figure it out\n",
    "if perform_PCA == True:\n",
    "    clustered_data = kmeans.fit(principal_components)\n",
    "else:\n",
    "    clustered_data = kmeans.fit(total_temporal_traces)\n",
    "\n",
    "#prints the clusters as well as the kept ROIs\n",
    "labelled_clusters = kmeans.labels_\n",
    "print('The ROIs are clustered as follows: ' + str(labelled_clusters))\n",
    "print('The kept ROIs are: ' + str(total_kept_rois))"
   ]
  },
  {
   "cell_type": "code",
   "execution_count": null,
   "metadata": {},
   "outputs": [],
   "source": [
    "#Creates a dictionary with clusters as keys and values as kept ROI number\n",
    "\n",
    "grouped_KMeans_dict = {}\n",
    "for label, roi_num in zip(labelled_clusters, kept_rois):\n",
    "    if label not in grouped_KMeans_dict:\n",
    "        roi_list = [roi_num]\n",
    "        grouped_KMeans_dict[label] = roi_list\n",
    "    else:\n",
    "        roi_list = [roi_num]\n",
    "        grouped_KMeans_dict[label] = grouped_KMeans_dict[label] + roi_list\n"
   ]
  },
  {
   "cell_type": "code",
   "execution_count": null,
   "metadata": {},
   "outputs": [],
   "source": []
  }
 ],
 "metadata": {
  "kernelspec": {
   "display_name": "Python [conda env:caiman]",
   "language": "python",
   "name": "conda-env-caiman-py"
  },
  "language_info": {
   "codemirror_mode": {
    "name": "ipython",
    "version": 3
   },
   "file_extension": ".py",
   "mimetype": "text/x-python",
   "name": "python",
   "nbconvert_exporter": "python",
   "pygments_lexer": "ipython3",
   "version": "3.6.10"
  }
 },
 "nbformat": 4,
 "nbformat_minor": 4
}
